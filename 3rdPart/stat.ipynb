{
 "cells": [
  {
   "cell_type": "markdown",
   "source": [
    "# $\\chi^2$ test hypotézy: Pokud viník nehody byl pod silným vlivem alkoholu, došlo častěji k těžkým zdravotním následkům."
   ],
   "metadata": {
    "collapsed": false,
    "pycharm": {
     "name": "#%% md\n"
    }
   }
  },
  {
   "cell_type": "markdown",
   "metadata": {
    "collapsed": true,
    "pycharm": {
     "name": "#%% md\n"
    }
   },
   "source": [
    "Knihovny"
   ]
  },
  {
   "cell_type": "code",
   "execution_count": 1,
   "outputs": [],
   "source": [
    "import pandas as pd\n",
    "import scipy.stats"
   ],
   "metadata": {
    "collapsed": false,
    "pycharm": {
     "name": "#%%\n"
    }
   }
  },
  {
   "cell_type": "markdown",
   "source": [
    "Načtení dat ze souboru a úprava"
   ],
   "metadata": {
    "collapsed": false
   }
  },
  {
   "cell_type": "code",
   "execution_count": 2,
   "outputs": [],
   "source": [
    "df = pd.read_pickle('accidents.pkl.gz')\n",
    "df['p11'] = pd.to_numeric(df['p11'], errors='coerce').astype('Int32')\n",
    "df.dropna(inplace=True) # Odstranění prázdných hodnot\n",
    "df = df[df['p11'] > -1] # Odstranění prázdných dat\n",
    "# Odstranění záznamů, kdy byl viník pod vlivem drog\n",
    "df = df[df['p11'] != 4]\n",
    "df = df[df['p11'] != 5]\n",
    "df = pd.DataFrame(\n",
    "    {\n",
    "        'alkohol': df['p11'],\n",
    "        'obeti': df['p13a'] + df['p13b']\n",
    "    }\n",
    ")"
   ],
   "metadata": {
    "collapsed": false,
    "pycharm": {
     "name": "#%%\n"
    }
   }
  },
  {
   "cell_type": "markdown",
   "source": [
    "Výpočet Pearsonovo korelačního koeficientu, abycho zjistili, zda data korelují."
   ],
   "metadata": {
    "collapsed": false
   }
  },
  {
   "cell_type": "code",
   "execution_count": 3,
   "outputs": [
    {
     "name": "stdout",
     "output_type": "stream",
     "text": [
      "Pearsonův korelační koeficient 0.0722738416121263 p-hodnota 0.0\n"
     ]
    }
   ],
   "source": [
    "pearsonR, pvalue = scipy.stats.pearsonr(df['alkohol'], df['obeti'])\n",
    "print('Pearsonův korelační koeficient', pearsonR, 'p-hodnota',pvalue)"
   ],
   "metadata": {
    "collapsed": false,
    "pycharm": {
     "name": "#%%\n"
    }
   }
  },
  {
   "cell_type": "markdown",
   "source": [
    "Binarizace proměnných"
   ],
   "metadata": {
    "collapsed": false
   }
  },
  {
   "cell_type": "code",
   "execution_count": 4,
   "outputs": [],
   "source": [
    "# Vinník nehody byl pod silným vlivem alkoholu\n",
    "df['hodne alkoholu'] = df['alkohol'] >= 7\n",
    "# Při nehodě se vznikli\n",
    "df['vznikle obeti'] = df['obeti'] > 0"
   ],
   "metadata": {
    "collapsed": false,
    "pycharm": {
     "name": "#%%\n"
    }
   }
  },
  {
   "cell_type": "markdown",
   "source": [
    "Vytvoření kontingenční tabulky"
   ],
   "metadata": {
    "collapsed": false,
    "pycharm": {
     "name": "#%% md\n"
    }
   }
  },
  {
   "cell_type": "code",
   "execution_count": 5,
   "outputs": [
    {
     "data": {
      "text/plain": "vznikle obeti    False  True \nhodne alkoholu               \nFalse           301101   8949\nTrue             13157    786",
      "text/html": "<div>\n<style scoped>\n    .dataframe tbody tr th:only-of-type {\n        vertical-align: middle;\n    }\n\n    .dataframe tbody tr th {\n        vertical-align: top;\n    }\n\n    .dataframe thead th {\n        text-align: right;\n    }\n</style>\n<table border=\"1\" class=\"dataframe\">\n  <thead>\n    <tr style=\"text-align: right;\">\n      <th>vznikle obeti</th>\n      <th>False</th>\n      <th>True</th>\n    </tr>\n    <tr>\n      <th>hodne alkoholu</th>\n      <th></th>\n      <th></th>\n    </tr>\n  </thead>\n  <tbody>\n    <tr>\n      <th>False</th>\n      <td>301101</td>\n      <td>8949</td>\n    </tr>\n    <tr>\n      <th>True</th>\n      <td>13157</td>\n      <td>786</td>\n    </tr>\n  </tbody>\n</table>\n</div>"
     },
     "execution_count": 5,
     "metadata": {},
     "output_type": "execute_result"
    }
   ],
   "source": [
    "ct = pd.crosstab(df['hodne alkoholu'], df['vznikle obeti'])\n",
    "ct"
   ],
   "metadata": {
    "collapsed": false,
    "pycharm": {
     "name": "#%%\n"
    }
   }
  },
  {
   "cell_type": "markdown",
   "source": [
    "Výpočet $\\chi^2$ testu"
   ],
   "metadata": {
    "collapsed": false,
    "pycharm": {
     "name": "#%% md\n"
    }
   }
  },
  {
   "cell_type": "code",
   "execution_count": 6,
   "outputs": [
    {
     "data": {
      "text/plain": "(345.52220104029,\n 4.0018562496326696e-77,\n 1,\n array([[300733.94456053,   9316.05543947],\n        [ 13524.05543947,    418.94456053]]))"
     },
     "execution_count": 6,
     "metadata": {},
     "output_type": "execute_result"
    }
   ],
   "source": [
    "scipy.stats.chi2_contingency(ct)"
   ],
   "metadata": {
    "collapsed": false,
    "pycharm": {
     "name": "#%%\n"
    }
   }
  },
  {
   "cell_type": "markdown",
   "source": [
    "# Závěr\n",
    "## Data\n",
    "Data jsou ve vzájemné korelaci, toto jsme určili pomocí pearsonova koeficientu korelace, který vyšel 0.072. Korelaci můžeme považovat za významnou, protože p-hodnota ($0$) $< 0.05$.\n",
    "## Hypotéza\n",
    "Hodnota $4.0 * 10^{-77}$ je mnohem menší než $0.05$. Proto můžeme prohlásit, že při nehodách, kdy je viník pod silným vlivem alkoholu, častěji dojde ke zranění.\n"
   ],
   "metadata": {
    "collapsed": false,
    "pycharm": {
     "name": "#%% md\n"
    }
   }
  }
 ],
 "metadata": {
  "kernelspec": {
   "name": "pycharm-2a731212",
   "language": "python",
   "display_name": "PyCharm (projekt)"
  },
  "language_info": {
   "codemirror_mode": {
    "name": "ipython",
    "version": 2
   },
   "file_extension": ".py",
   "mimetype": "text/x-python",
   "name": "python",
   "nbconvert_exporter": "python",
   "pygments_lexer": "ipython2",
   "version": "2.7.6"
  }
 },
 "nbformat": 4,
 "nbformat_minor": 0
}
